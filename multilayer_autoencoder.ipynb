{
  "nbformat": 4,
  "nbformat_minor": 0,
  "metadata": {
    "colab": {
      "name": "multilayer_autoencoder.ipynb",
      "provenance": [],
      "authorship_tag": "ABX9TyN6PmhAyoOH5g9+LXwYFROB",
      "include_colab_link": true
    },
    "kernelspec": {
      "name": "python3",
      "display_name": "Python 3"
    }
  },
  "cells": [
    {
      "cell_type": "markdown",
      "metadata": {
        "id": "view-in-github",
        "colab_type": "text"
      },
      "source": [
        "<a href=\"https://colab.research.google.com/github/shabnm/autoencoder/blob/master/multilayer_autoencoder.ipynb\" target=\"_parent\"><img src=\"https://colab.research.google.com/assets/colab-badge.svg\" alt=\"Open In Colab\"/></a>"
      ]
    },
    {
      "cell_type": "code",
      "metadata": {
        "id": "ajdoLsEUbDLT",
        "colab_type": "code",
        "colab": {}
      },
      "source": [
        "from keras.models import Model\n",
        "from keras.layers import Input, Dense"
      ],
      "execution_count": 5,
      "outputs": []
    },
    {
      "cell_type": "code",
      "metadata": {
        "id": "ZVfM1lg1c8FU",
        "colab_type": "code",
        "colab": {}
      },
      "source": [
        "import numpy as np\n",
        "import matplotlib.pyplot as plt\n",
        "from keras.datasets import mnist"
      ],
      "execution_count": 26,
      "outputs": []
    },
    {
      "cell_type": "markdown",
      "metadata": {
        "id": "CCJ2_bZynSA7",
        "colab_type": "text"
      },
      "source": [
        "Load the data from mnist dataset and normalize and reshape it"
      ]
    },
    {
      "cell_type": "code",
      "metadata": {
        "id": "iR_wi9sonDi2",
        "colab_type": "code",
        "colab": {}
      },
      "source": [
        "(X_train,_),(X_test,_) = mnist.load_data()"
      ],
      "execution_count": 34,
      "outputs": []
    },
    {
      "cell_type": "code",
      "metadata": {
        "id": "NZEwnXePn9F2",
        "colab_type": "code",
        "colab": {
          "base_uri": "https://localhost:8080/",
          "height": 35
        },
        "outputId": "72bcd0b8-087c-487c-bfb2-2abdd96d7c9e"
      },
      "source": [
        "X_train.shape[:]"
      ],
      "execution_count": 10,
      "outputs": [
        {
          "output_type": "execute_result",
          "data": {
            "text/plain": [
              "(60000, 28, 28)"
            ]
          },
          "metadata": {
            "tags": []
          },
          "execution_count": 10
        }
      ]
    },
    {
      "cell_type": "code",
      "metadata": {
        "id": "-Me2QbdTn7Fm",
        "colab_type": "code",
        "colab": {}
      },
      "source": [
        "X_train = X_train.astype('float32')/255\n",
        "X_train = X_train.reshape((len(X_train), np.prod(X_train.shape[1:])))\n",
        "X_test = X_test.astype('float32')/255\n",
        "X_test = X_test.reshape((len(X_test), np.prod(X_test.shape[1:])))"
      ],
      "execution_count": 35,
      "outputs": []
    },
    {
      "cell_type": "code",
      "metadata": {
        "id": "shekcRt9gdN4",
        "colab_type": "code",
        "colab": {}
      },
      "source": [
        "from keras import regularizers"
      ],
      "execution_count": 50,
      "outputs": []
    },
    {
      "cell_type": "code",
      "metadata": {
        "id": "mBgiS_aim3s3",
        "colab_type": "code",
        "colab": {}
      },
      "source": [
        "bottleneck_dim = 64\n",
        "hidden_size = 128\n",
        "input_img = Input(shape=(np.prod(X_train.shape[1:]),))\n",
        "\n",
        "hidden_1 = Dense(hidden_size, activation='relu')(input_img)\n",
        "encoded = Dense(bottleneck_dim, activation='relu',activity_regularizer=regularizers.l1(10e-5))(hidden_1)\n",
        "\n",
        "hidden_2 = Dense(hidden_size, activation='relu')(encoded)\n",
        "decoded = Dense(np.prod(X_train.shape[1:]), activation='sigmoid')(hidden_2)\n",
        "autoencoder = Model(input_img, decoded)"
      ],
      "execution_count": 51,
      "outputs": []
    },
    {
      "cell_type": "markdown",
      "metadata": {
        "id": "aTEPP76IRzw6",
        "colab_type": "text"
      },
      "source": [
        "compile the autoencoder with optimizer adadelta(improved SGD and extension of adagrad)"
      ]
    },
    {
      "cell_type": "code",
      "metadata": {
        "id": "ZdwndxSRQLEN",
        "colab_type": "code",
        "colab": {}
      },
      "source": [
        "autoencoder.compile(optimizer='adadelta',loss='mse')"
      ],
      "execution_count": 52,
      "outputs": []
    },
    {
      "cell_type": "code",
      "metadata": {
        "id": "xPplVRbtSIyV",
        "colab_type": "code",
        "colab": {
          "base_uri": "https://localhost:8080/",
          "height": 745
        },
        "outputId": "5fe5f48e-1054-429c-d39d-c4977d95897b"
      },
      "source": [
        "autoencoder.fit(X_train,X_train, epochs=20, batch_size=256, shuffle=True, validation_data=(X_test, X_test))"
      ],
      "execution_count": 53,
      "outputs": [
        {
          "output_type": "stream",
          "text": [
            "Train on 60000 samples, validate on 10000 samples\n",
            "Epoch 1/20\n",
            "60000/60000 [==============================] - 3s 58us/step - loss: 0.2280 - val_loss: 0.2140\n",
            "Epoch 2/20\n",
            "60000/60000 [==============================] - 3s 55us/step - loss: 0.1867 - val_loss: 0.1431\n",
            "Epoch 3/20\n",
            "60000/60000 [==============================] - 3s 54us/step - loss: 0.1033 - val_loss: 0.0805\n",
            "Epoch 4/20\n",
            "60000/60000 [==============================] - 3s 54us/step - loss: 0.0746 - val_loss: 0.0717\n",
            "Epoch 5/20\n",
            "60000/60000 [==============================] - 3s 54us/step - loss: 0.0703 - val_loss: 0.0697\n",
            "Epoch 6/20\n",
            "60000/60000 [==============================] - 3s 53us/step - loss: 0.0690 - val_loss: 0.0689\n",
            "Epoch 7/20\n",
            "60000/60000 [==============================] - 3s 58us/step - loss: 0.0684 - val_loss: 0.0685\n",
            "Epoch 8/20\n",
            "60000/60000 [==============================] - 3s 57us/step - loss: 0.0681 - val_loss: 0.0683\n",
            "Epoch 9/20\n",
            "60000/60000 [==============================] - 3s 56us/step - loss: 0.0680 - val_loss: 0.0681\n",
            "Epoch 10/20\n",
            "60000/60000 [==============================] - 3s 56us/step - loss: 0.0678 - val_loss: 0.0680\n",
            "Epoch 11/20\n",
            "60000/60000 [==============================] - 3s 58us/step - loss: 0.0677 - val_loss: 0.0679\n",
            "Epoch 12/20\n",
            "60000/60000 [==============================] - 4s 60us/step - loss: 0.0677 - val_loss: 0.0679\n",
            "Epoch 13/20\n",
            "60000/60000 [==============================] - 4s 59us/step - loss: 0.0676 - val_loss: 0.0678\n",
            "Epoch 14/20\n",
            "60000/60000 [==============================] - 3s 57us/step - loss: 0.0676 - val_loss: 0.0678\n",
            "Epoch 15/20\n",
            "60000/60000 [==============================] - 3s 53us/step - loss: 0.0675 - val_loss: 0.0677\n",
            "Epoch 16/20\n",
            "60000/60000 [==============================] - 3s 51us/step - loss: 0.0675 - val_loss: 0.0677\n",
            "Epoch 17/20\n",
            "60000/60000 [==============================] - 3s 51us/step - loss: 0.0675 - val_loss: 0.0677\n",
            "Epoch 18/20\n",
            "60000/60000 [==============================] - 3s 50us/step - loss: 0.0675 - val_loss: 0.0677\n",
            "Epoch 19/20\n",
            "60000/60000 [==============================] - 3s 52us/step - loss: 0.0675 - val_loss: 0.0677\n",
            "Epoch 20/20\n",
            "60000/60000 [==============================] - 3s 50us/step - loss: 0.0674 - val_loss: 0.0676\n"
          ],
          "name": "stdout"
        },
        {
          "output_type": "execute_result",
          "data": {
            "text/plain": [
              "<keras.callbacks.callbacks.History at 0x7f1048ad0940>"
            ]
          },
          "metadata": {
            "tags": []
          },
          "execution_count": 53
        }
      ]
    },
    {
      "cell_type": "code",
      "metadata": {
        "id": "NiHEmKKnVp9O",
        "colab_type": "code",
        "colab": {}
      },
      "source": [
        "img = autoencoder.predict(X_test)"
      ],
      "execution_count": 54,
      "outputs": []
    },
    {
      "cell_type": "code",
      "metadata": {
        "id": "hQMzAAodWNuG",
        "colab_type": "code",
        "colab": {
          "base_uri": "https://localhost:8080/",
          "height": 263
        },
        "outputId": "79bbe7c9-1437-4134-f4da-0fc410728e1e"
      },
      "source": [
        "n =10\n",
        "plt.figure(figsize=(20,4))\n",
        "for i in range(n):\n",
        "  ax = plt.subplot(2,n,i+1)\n",
        "  plt.imshow(X_test[i].reshape(28,28))\n",
        "  plt.gray()\n",
        "\n",
        "  ax = plt.subplot(2,n,i+1+n)\n",
        "  plt.imshow(img[i].reshape(28,28))\n",
        "  plt.gray()\n",
        "\n",
        "\n",
        "plt.show()\n"
      ],
      "execution_count": 55,
      "outputs": [
        {
          "output_type": "display_data",
          "data": {
            "image/png": "[encoded data removed]",
            "text/plain": [
              "<Figure size 1440x288 with 20 Axes>"
            ]
          },
          "metadata": {
            "tags": [],
            "needs_background": "light"
          }
        }
      ]
    },
    {
      "cell_type": "markdown",
      "metadata": {
        "id": "YXjfQXxlZrE7",
        "colab_type": "text"
      },
      "source": [
        "Used for data denoising and dimensionality reduction"
      ]
    }
  ]
}